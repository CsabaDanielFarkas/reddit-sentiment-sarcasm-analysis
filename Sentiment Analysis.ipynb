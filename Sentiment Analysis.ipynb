{
 "cells": [
  {
   "cell_type": "markdown",
   "id": "c0d5024a",
   "metadata": {},
   "source": [
    "Credit and special thanks to the authors of:\n",
    "https://towardsdatascience.com/an-easy-tutorial-about-sentiment-analysis-with-deep-learning-and-keras-2bf52b9cba91\n",
    "https://towardsdatascience.com/the-most-favorable-pre-trained-sentiment-classifiers-in-python-9107c06442c6\n",
    "https://medium.com/@b.terryjack/nlp-pre-trained-sentiment-analysis-1eb52a9d742c"
   ]
  },
  {
   "cell_type": "markdown",
   "id": "c9dcedd8",
   "metadata": {},
   "source": [
    "# Data Preprocessing\n",
    "Mainly removing mails, website links, tokenization (splitting words)"
   ]
  },
  {
   "cell_type": "code",
   "execution_count": 1,
   "id": "747ff895",
   "metadata": {},
   "outputs": [],
   "source": [
    "import re\n",
    "import gensim\n",
    "from nltk.tokenize.treebank import TreebankWordDetokenizer"
   ]
  },
  {
   "cell_type": "code",
   "execution_count": 2,
   "id": "dab6cada",
   "metadata": {},
   "outputs": [],
   "source": [
    "def depure_data(data):\n",
    "    \n",
    "    #Removing URLs with a regular expression\n",
    "    url_pattern = re.compile(r'https?://\\S+|www\\.\\S+')\n",
    "    data = url_pattern.sub(r'', data)\n",
    "\n",
    "    # Remove Emails\n",
    "    data = re.sub('\\S*@\\S*\\s?', '', data)\n",
    "\n",
    "    # Remove new line characters\n",
    "    data = re.sub('\\s+', ' ', data)\n",
    "\n",
    "    # Remove distracting single quotes\n",
    "    data = re.sub(\"\\'\", \"\", data)\n",
    "        \n",
    "    return data\n",
    "\n",
    "def sent_to_words(sentences):\n",
    "    for sentence in sentences:\n",
    "        yield(gensim.utils.simple_preprocess(str(sentence),     deacc=True))\n",
    "        \n",
    "def detokenize(text):\n",
    "    return TreebankWordDetokenizer().detokenize(text)\n",
    "\n",
    "def edit_text(text):\n",
    "    temp = []\n",
    "    #Splitting pd.Series to list\n",
    "    data_to_list = [text]\n",
    "    for i in range(len(data_to_list)):\n",
    "        temp.append(depure_data(data_to_list[i]))\n",
    "    data_words = list(sent_to_words(temp))\n",
    "    data = []\n",
    "    for i in range(len(data_words)):\n",
    "        data.append(detokenize(data_words[i]))\n",
    "    return data[0]"
   ]
  },
  {
   "cell_type": "markdown",
   "id": "3ceeea5e",
   "metadata": {},
   "source": [
    "# Flair model initalization"
   ]
  },
  {
   "cell_type": "code",
   "execution_count": 3,
   "id": "d4250bba",
   "metadata": {},
   "outputs": [
    {
     "name": "stdout",
     "output_type": "stream",
     "text": [
      "2022-07-04 10:16:29,020 loading file C:\\Users\\csaba\\.flair\\models\\sentiment-en-mix-distillbert_4.pt\n"
     ]
    }
   ],
   "source": [
    "import flair\n",
    "flair_sentiment = flair.models.TextClassifier.load('en-sentiment')"
   ]
  },
  {
   "cell_type": "markdown",
   "id": "25682e1d",
   "metadata": {},
   "source": [
    "# Reddit scraping - PRAW"
   ]
  },
  {
   "cell_type": "code",
   "execution_count": 4,
   "id": "e16640bb",
   "metadata": {},
   "outputs": [],
   "source": [
    "import praw\n",
    "import numpy as np\n",
    "reddit = praw.Reddit(client_id='99_Ndr2MqM1qzNw9dmDhuw', client_secret='VnPejgHX9KFQK6jJuf3mMxZkQruxoA', user_agent='sentiment')"
   ]
  },
  {
   "cell_type": "code",
   "execution_count": 5,
   "id": "f84d8b60",
   "metadata": {},
   "outputs": [],
   "source": [
    "import pickle\n",
    "\n",
    "with open('lsvc_sarcasm.pickle','rb') as f:\n",
    "    lsvc = pickle.load(f)\n",
    "with open('tfidf_sarcasm.pickle','rb') as f:\n",
    "    tfidf = pickle.load(f)    \n"
   ]
  },
  {
   "cell_type": "code",
   "execution_count": 6,
   "id": "d8d146aa",
   "metadata": {},
   "outputs": [],
   "source": [
    "url = \"https://www.reddit.com/r/news/comments/vjpfbh/supreme_court_overturns_roe_v_wade_states_can_ban/\"\n",
    "n_comments = 100"
   ]
  },
  {
   "cell_type": "code",
   "execution_count": 7,
   "id": "e59007be",
   "metadata": {},
   "outputs": [],
   "source": [
    "submission = reddit.submission(url=url)\n",
    "submission.comments.replace_more(limit=0) # flatten tree\n",
    "comments = submission.comments.list() # all comments"
   ]
  },
  {
   "cell_type": "code",
   "execution_count": 8,
   "id": "aa6a987e",
   "metadata": {},
   "outputs": [],
   "source": [
    "counts = [0, 0]\n",
    "counts_sarc=[0, 0]"
   ]
  },
  {
   "cell_type": "code",
   "execution_count": 9,
   "id": "ff19b51d",
   "metadata": {},
   "outputs": [],
   "source": [
    "valsFlair = np.zeros(n_comments)\n",
    "valsFlair_withSarcasm = np.zeros(n_comments)\n",
    "for i, top_level_comment in enumerate(comments[:n_comments]):\n",
    "    s = flair.data.Sentence(edit_text(top_level_comment.body))\n",
    "    flair_sentiment.predict(s)\n",
    "    total_sentiment = s.labels\n",
    "    if len(total_sentiment)==1:\n",
    "        sarcasm = lsvc.predict(tfidf.transform([top_level_comment.body]))[0]\n",
    "        #print(top_level_comment.body + '\\n' + str(total_sentiment[0].value)+'' '+str(sarcasm)+' '+ str(total_sentiment[0].score)+ '\\n')\n",
    "        result = total_sentiment[0].value\n",
    "        \n",
    "        if (result=='NEGATIVE'):\n",
    "            valsFlair[i]=-1\n",
    "            counts[0]+=1\n",
    "            if sarcasm==1:\n",
    "                valsFlair_withSarcasm[i]=1\n",
    "                counts_sarc[1]+=1\n",
    "            else:\n",
    "                valsFlair_withSarcasm[i]=-1\n",
    "                counts_sarc[0]+=1\n",
    "        elif (result=='POSITIVE'):\n",
    "            valsFlair[i]=1 \n",
    "            counts[1]+=1\n",
    "            if sarcasm==1:\n",
    "                valsFlair_withSarcasm[i]=-1\n",
    "                counts_sarc[0]+=1\n",
    "            else:\n",
    "                valsFlair_withSarcasm[i]=1\n",
    "                counts_sarc[1]+=1"
   ]
  },
  {
   "cell_type": "markdown",
   "id": "da35fb21",
   "metadata": {},
   "source": [
    "# Visualisation"
   ]
  },
  {
   "cell_type": "code",
   "execution_count": 10,
   "id": "93b91463",
   "metadata": {},
   "outputs": [
    {
     "data": {
      "image/png": "[encoded data removed]",
      "text/plain": [
       "<Figure size 720x360 with 2 Axes>"
      ]
     },
     "metadata": {},
     "output_type": "display_data"
    }
   ],
   "source": [
    "%matplotlib inline\n",
    "import matplotlib.pyplot as plt\n",
    "\n",
    "fig, (ax1, ax2) = plt.subplots(1, 2, figsize = (10,5))\n",
    "\n",
    "bars1=ax1.bar(['Negative', 'Positive'], counts)\n",
    "bars2=ax2.bar(['Negative', 'Positive'], counts_sarc)\n",
    "ax1.bar_label(bars1)\n",
    "ax2.bar_label(bars2)\n",
    "fig.patch.set_facecolor('xkcd:mint green')\n",
    "ax1.title.set_text(\"Sentiment Analysis\")\n",
    "ax2.title.set_text(\"Sentiment Analysis with Sarcasm\")"
   ]
  },
  {
   "cell_type": "code",
   "execution_count": null,
   "id": "4b21a251",
   "metadata": {},
   "outputs": [],
   "source": []
  },
  {
   "cell_type": "code",
   "execution_count": null,
   "id": "5051a710",
   "metadata": {},
   "outputs": [],
   "source": []
  }
 ],
 "metadata": {
  "kernelspec": {
   "display_name": "Python 3 (ipykernel)",
   "language": "python",
   "name": "python3"
  },
  "language_info": {
   "codemirror_mode": {
    "name": "ipython",
    "version": 3
   },
   "file_extension": ".py",
   "mimetype": "text/x-python",
   "name": "python",
   "nbconvert_exporter": "python",
   "pygments_lexer": "ipython3",
   "version": "3.9.12"
  }
 },
 "nbformat": 4,
 "nbformat_minor": 5
}
